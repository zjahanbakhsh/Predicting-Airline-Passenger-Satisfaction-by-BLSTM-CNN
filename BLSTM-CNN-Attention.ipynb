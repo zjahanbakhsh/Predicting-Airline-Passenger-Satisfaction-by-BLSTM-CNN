{
  "nbformat": 4,
  "nbformat_minor": 0,
  "metadata": {
    "colab": {
      "provenance": []
    },
    "kernelspec": {
      "name": "python3",
      "display_name": "Python 3"
    },
    "language_info": {
      "name": "python"
    }
  },
  "cells": [
    {
      "cell_type": "markdown",
      "source": [
        "Concatenated BLSTM(128) with CNN(2*64) with attention"
      ],
      "metadata": {
        "id": "KbGMB_4Sxlxy"
      }
    },
    {
      "cell_type": "code",
      "source": [
        "import numpy as np\n",
        "import pandas as pd\n",
        "import matplotlib.pyplot as plt\n",
        "from sklearn.model_selection import train_test_split\n",
        "from tensorflow.keras.layers import Dense, Input, LSTM,Bidirectional,  Concatenate, GlobalAveragePooling1D\n",
        "from tensorflow.keras.models import Model\n",
        "from sklearn.metrics import accuracy_score,recall_score,precision_score,confusion_matrix,roc_curve,auc,roc_auc_score\n",
        "from keras.models import Sequential\n",
        "from keras.layers import Dense,Conv1D,MaxPooling1D,Flatten,Attention,Reshape\n",
        "from sklearn.preprocessing import LabelEncoder,StandardScaler\n",
        "from keras.layers import Input\n",
        "from keras.callbacks import EarlyStopping\n",
        "np.random.seed(0)\n",
        "import random\n",
        "random.seed(0)\n",
        "import tensorflow as tf\n",
        "tf.random.set_seed(0)"
      ],
      "metadata": {
        "id": "xBg4R1TCxuKV"
      },
      "execution_count": null,
      "outputs": []
    },
    {
      "cell_type": "code",
      "source": [
        "data=pd.read_csv('/content/sample_data/satisfaction.csv')\n",
        "data=data.dropna()\n",
        "x=data.drop(columns=['satisfaction'])\n",
        "y=data['satisfaction']\n",
        "x=x.apply(LabelEncoder().fit_transform)\n",
        "y=LabelEncoder().fit_transform(y)\n",
        "x=np.array(x)\n",
        "y=np.array(y)\n",
        "scaler=StandardScaler()\n",
        "x=scaler.fit_transform(x)\n",
        "x_train,x_test,y_train,y_test=train_test_split(x,y,test_size=0.3,random_state=42)\n",
        "x_train=x_train.reshape(x_train.shape[0],x_train.shape[1],1)\n",
        "x_test=x_test.reshape(x_test.shape[0],x_test.shape[1],1)"
      ],
      "metadata": {
        "id": "3VQP3LKAx2vd"
      },
      "execution_count": null,
      "outputs": []
    },
    {
      "cell_type": "code",
      "source": [
        "input_layer=Input(shape=(x_train.shape[1],1))\n",
        "model=Sequential()\n",
        "lstm_layer=(Bidirectional(LSTM(128,activation='relu',return_sequences=True)))(input_layer)\n",
        "attention_out=Attention()([lstm_layer,lstm_layer])\n",
        "attention_out=GlobalAveragePooling1D()(attention_out)\n",
        "attention_out=Reshape((1,256))(attention_out)\n",
        "attention_out= Dense(64, activation='relu')(attention_out)\n",
        "cnn_out=Conv1D(filters=64,kernel_size=3,activation='relu')(input_layer)\n",
        "cnn_out=MaxPooling1D(pool_size=2)(cnn_out)\n",
        "cnn_out=Flatten()(cnn_out)\n",
        "cnn_out=Dense(64,activation='relu')(cnn_out)\n",
        "cnn_out=Dense(64,activation='relu')(cnn_out)\n",
        "cnn_out=Reshape((1,64))(cnn_out)\n",
        "combine_output=Concatenate()([attention_out,cnn_out])\n",
        "output = Dense(1, activation='sigmoid')(Flatten()(combine_output))\n",
        "model=Model(inputs=input_layer,outputs=output)\n",
        "model.compile(loss='binary_crossentropy',optimizer='adam',metrics=['accuracy'])"
      ],
      "metadata": {
        "id": "WzG4YFc2x8l9"
      },
      "execution_count": null,
      "outputs": []
    },
    {
      "cell_type": "code",
      "source": [
        "#early_stopping = EarlyStopping(monitor='val_loss', patience=5, verbose=1, restore_best_weights=True)\n",
        "blstm=model.fit(x_train,y_train,epochs=10,batch_size=32,validation_data=(x_test,y_test))\n",
        "loss=model.evaluate(x_test,y_test)\n",
        "print('loss is=',loss)\n",
        "y_pred=model.predict(x_test)\n",
        "y_pred=np.round(y_pred)\n",
        "print('accuracy_score is=',accuracy_score(y_test,y_pred))\n",
        "print('recall_score is=',recall_score(y_test,y_pred))\n",
        "print('precision_score is=',precision_score(y_test,y_pred))\n",
        "print(confusion_matrix(y_test,y_pred))\n",
        "fpr,tpr,threshold=roc_curve(y_test,y_pred)\n",
        "roc_auc=auc(fpr,tpr)\n",
        "plt.figure()\n",
        "plt.plot(fpr,tpr,color='blue',label='ROC curve (area = %0.2f)' % roc_auc)\n",
        "plt.plot([0, 1], [0, 1], color='red', linestyle='--')\n",
        "plt.xlim([0.0, 1.0])\n",
        "plt.ylim([0.0, 1.05])\n",
        "plt.xlabel('False Positive Rate')\n",
        "plt.ylabel('True Positive Rate')\n",
        "plt.title('Receiver Operating Characteristic')\n",
        "plt.legend(loc=\"lower right\")\n",
        "plt.show()\n",
        "auc_score=roc_auc_score(y_test,y_pred)\n",
        "print('AUC score is=',auc_score)\n",
        "plt.plot(blstm.history['accuracy'])\n",
        "plt.title('model accuracy')\n",
        "plt.ylabel('accuracy')\n",
        "plt.xlabel('epoch')\n",
        "plt.legend(['train'],loc='upper left')\n",
        "plt.show()\n",
        "w=recall_score(y_test,y_pred)\n",
        "e=precision_score(y_test,y_pred)\n",
        "F1=(w*e*2)/(w+e)\n",
        "print('F1 is=',F1)"
      ],
      "metadata": {
        "id": "PsXIj5PyyC2-"
      },
      "execution_count": null,
      "outputs": []
    }
  ]
}